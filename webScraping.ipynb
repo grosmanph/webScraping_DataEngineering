{
 "cells": [
  {
   "cell_type": "code",
   "execution_count": 1,
   "metadata": {},
   "outputs": [],
   "source": [
    "from selenium import webdriver\n",
    "opts = webdriver.ChromeOptions()\n",
    "opts.headless =True\n",
    "from datetime import date\n",
    "from bs4 import BeautifulSoup\n",
    "from requests import get\n",
    "import pandas as pd\n",
    "import numpy as np\n",
    "import time"
   ]
  },
  {
   "cell_type": "markdown",
   "metadata": {},
   "source": [
    "### Checking where's the Chrome webdriver"
   ]
  },
  {
   "cell_type": "code",
   "execution_count": 2,
   "metadata": {},
   "outputs": [],
   "source": [
    "try:\n",
    "    browser = webdriver.Chrome(executable_path=r'C:\\Users\\pedro\\Dropbox\\pythonApplications\\DataEngineering_project\\chromedriver.exe',options =opts)\n",
    "except:\n",
    "    print('Chrome webdriver not found\\n')"
   ]
  },
  {
   "cell_type": "markdown",
   "metadata": {},
   "source": [
    "### Accessing the page and finding all categories"
   ]
  },
  {
   "cell_type": "code",
   "execution_count": 3,
   "metadata": {},
   "outputs": [],
   "source": [
    "browser.get(r'http://books.toscrape.com/')\n",
    "categories = browser.find_elements_by_class_name(r\"side_categories\")\n",
    "if len(categories) == 0:\n",
    "    print('side_categories not found\\n')\n",
    "    exit()\n",
    "else:\n",
    "    categories = np.array(categories[0].text.split('\\n')[1:]).flatten()"
   ]
  },
  {
   "cell_type": "markdown",
   "metadata": {},
   "source": [
    "### Navigate through categories"
   ]
  },
  {
   "cell_type": "code",
   "execution_count": 4,
   "metadata": {},
   "outputs": [
    {
     "name": "stdout",
     "output_type": "stream",
     "text": [
      "Wall time: 2min 37s\n"
     ]
    }
   ],
   "source": [
    "%%time\n",
    "lenCategories = len(categories)\n",
    "\n",
    "title,category,stars,price,is_in_stock = [],[],[],[],[]\n",
    "\n",
    "for cat,i in zip(categories,range(0,lenCategories)):\n",
    "    \n",
    "    catPage = '-'.join(cat.split(' ')).lower()\n",
    "    catPage = 'http://books.toscrape.com/catalogue/category/books/'+catPage+'_'+str(i+2)+'/index.html'\n",
    "    browser.get(catPage)\n",
    "    time.sleep(0.2)\n",
    "    \n",
    "    if browser.find_elements_by_class_name('pager') == []:\n",
    "        \n",
    "        # only 1 page\n",
    "        response = get(browser.current_url)\n",
    "        html_soup = BeautifulSoup(response.text, 'html.parser')\n",
    "        book_containers = html_soup.find_all('li', class_ = 'col-xs-6 col-sm-4 col-md-3 col-lg-3')\n",
    "        \n",
    "        for j in range(0,len(book_containers)):\n",
    "            price.append(book_containers[j].find_all('div')[1].find_all('p')[0].text.split('£')[1])\n",
    "            is_in_stock.append( 'Yes' if 'In stock' in book_containers[j].find_all('div')[1].find_all('p')[1].text else 'No')\n",
    "            stars.append(book_containers[j].find_all('p')[0]['class'][1])\n",
    "            title.append(book_containers[j].find_all('div')[0].a.img['alt'])\n",
    "            category.append(cat)\n",
    "            \n",
    "    else:\n",
    "        \n",
    "        #more than one page\n",
    "        book_containers = html_soup.find_all('li', class_ = 'col-xs-6 col-sm-4 col-md-3 col-lg-3')\n",
    "        \n",
    "        is_last_page = False\n",
    "        while is_last_page == False:\n",
    "            \n",
    "            response = get(browser.current_url)\n",
    "            html_soup = BeautifulSoup(response.text, 'html.parser')\n",
    "            book_containers = html_soup.find_all('li', class_ = 'col-xs-6 col-sm-4 col-md-3 col-lg-3')\n",
    "            \n",
    "            for j in range(0,len(book_containers)):\n",
    "                price.append(book_containers[j].find_all('div')[1].find_all('p')[0].text.split('£')[1])\n",
    "                is_in_stock.append('Yes' if 'In stock' in book_containers[j].find_all('div')[1].find_all('p')[1].text else 'No')\n",
    "                stars.append(book_containers[j].find_all('p')[0]['class'][1])\n",
    "                title.append(book_containers[j].find_all('div')[0].a.img['alt'])\n",
    "                category.append(cat)\n",
    "                \n",
    "            pager = browser.find_elements_by_class_name('pager')[0]\n",
    "            if pager.text.split('\\n')[-1].split(' ')[0] == 'Page':\n",
    "                is_last_page = True\n",
    "            else:\n",
    "                next_button = pager.find_elements_by_tag_name('a')\n",
    "                next_button[-1].click()\n",
    "                time.sleep(0.2)"
   ]
  },
  {
   "cell_type": "code",
   "execution_count": 5,
   "metadata": {},
   "outputs": [],
   "source": [
    "df = pd.DataFrame({'title':title,'category':category,'stars':stars,'price':price,'is_in_stock':is_in_stock})"
   ]
  },
  {
   "cell_type": "code",
   "execution_count": 6,
   "metadata": {},
   "outputs": [],
   "source": [
    "df['stars'] = df['stars'].map({'One':1,'Two':2,'Three':3,'Four':4,'Five':5})\n",
    "df['title'] = df['title'].apply(lambda x: x.replace('\\x80\\x99',\"'\") if '\\x80\\x99' in x else x)\n",
    "df['title'] = df['title'].apply(lambda x: x.replace('\"',\"'\"))"
   ]
  },
  {
   "cell_type": "markdown",
   "metadata": {},
   "source": [
    "### Checking if formatting is OK"
   ]
  },
  {
   "cell_type": "code",
   "execution_count": 7,
   "metadata": {},
   "outputs": [],
   "source": [
    "## Checking if it's full of NaN\n",
    "\n",
    "if df.isnull().sum().sum() == df.shape[0]*df.shape[1]:\n",
    "    print('Only NaN values scraped. Something went wrong...\\n')\n",
    "    exit()\n",
    "\n",
    "## Checking stars\n",
    "nan_in_stars = df.stars.isnull().sum()\n",
    "if nan_in_stars == len(df):\n",
    "    print('All stars scraped are NULL. Ending execution...\\n')\n",
    "    exit()\n",
    "    \n",
    "## Checking if something differs from 'Yes', 'No' or 'Nan' in is_in_stock column\n",
    "for count in df['is_in_stock'].dropna().value_counts().index:\n",
    "    if df['is_in_stock'].isnull().sum() == len(df):\n",
    "        print('All stars scraped are NULL. Ending execution...\\n')\n",
    "        exit()\n",
    "    elif count !='Yes' and count !='No':\n",
    "        print('Invalid value in is_in_stock column. Exiting...')\n",
    "        exit()\n",
    "        \n",
    "## Checking if there's 'Nan' in title column\n",
    "df['title'].fillna('NULL', inplace=True)"
   ]
  },
  {
   "cell_type": "markdown",
   "metadata": {},
   "source": [
    "### Creating a query to insert data into scraped table"
   ]
  },
  {
   "cell_type": "code",
   "execution_count": 10,
   "metadata": {},
   "outputs": [],
   "source": [
    "with open('./sql_files/insertInto_scrapedTable.sql','w', encoding=\"utf-8\") as outFile:\n",
    "    outFile.write('USE book_club_web_data;\\n\\n')\n",
    "    outFile.write('INSERT INTO scraped(title,category,stars,price,is_in_stock) VALUES\\n')\n",
    "    for row in df.iloc:\n",
    "        if row.name == df.iloc[-1].name:\n",
    "            value = '(\"'+'\",\"'.join(row.apply(lambda x: str(x)).values)+'\");\\n'\n",
    "            value = value.replace('\"NULL\"','NULL')\n",
    "            outFile.write(value)\n",
    "        else:\n",
    "            value = '(\"'+'\",\"'.join(row.apply(lambda x: str(x)).values)+'\"),\\n'\n",
    "            value = value.replace('\"NULL\"','NULL')\n",
    "            outFile.write(value)"
   ]
  },
  {
   "cell_type": "code",
   "execution_count": 8,
   "metadata": {},
   "outputs": [
    {
     "data": {
      "text/html": [
       "<div>\n",
       "<style scoped>\n",
       "    .dataframe tbody tr th:only-of-type {\n",
       "        vertical-align: middle;\n",
       "    }\n",
       "\n",
       "    .dataframe tbody tr th {\n",
       "        vertical-align: top;\n",
       "    }\n",
       "\n",
       "    .dataframe thead th {\n",
       "        text-align: right;\n",
       "    }\n",
       "</style>\n",
       "<table border=\"1\" class=\"dataframe\">\n",
       "  <thead>\n",
       "    <tr style=\"text-align: right;\">\n",
       "      <th></th>\n",
       "      <th>title</th>\n",
       "      <th>category</th>\n",
       "      <th>stars</th>\n",
       "      <th>price</th>\n",
       "      <th>is_in_stock</th>\n",
       "    </tr>\n",
       "  </thead>\n",
       "  <tbody>\n",
       "    <tr>\n",
       "      <th>0</th>\n",
       "      <td>It's Only the Himalayas</td>\n",
       "      <td>Travel</td>\n",
       "      <td>2</td>\n",
       "      <td>45.17</td>\n",
       "      <td>Yes</td>\n",
       "    </tr>\n",
       "    <tr>\n",
       "      <th>1</th>\n",
       "      <td>Full Moon over Noahâ's Ark: An Odyssey to Moun...</td>\n",
       "      <td>Travel</td>\n",
       "      <td>4</td>\n",
       "      <td>49.43</td>\n",
       "      <td>Yes</td>\n",
       "    </tr>\n",
       "    <tr>\n",
       "      <th>2</th>\n",
       "      <td>See America: A Celebration of Our National Par...</td>\n",
       "      <td>Travel</td>\n",
       "      <td>3</td>\n",
       "      <td>48.87</td>\n",
       "      <td>Yes</td>\n",
       "    </tr>\n",
       "    <tr>\n",
       "      <th>3</th>\n",
       "      <td>Vagabonding: An Uncommon Guide to the Art of L...</td>\n",
       "      <td>Travel</td>\n",
       "      <td>2</td>\n",
       "      <td>36.94</td>\n",
       "      <td>Yes</td>\n",
       "    </tr>\n",
       "    <tr>\n",
       "      <th>4</th>\n",
       "      <td>Under the Tuscan Sun</td>\n",
       "      <td>Travel</td>\n",
       "      <td>3</td>\n",
       "      <td>37.33</td>\n",
       "      <td>Yes</td>\n",
       "    </tr>\n",
       "    <tr>\n",
       "      <th>...</th>\n",
       "      <td>...</td>\n",
       "      <td>...</td>\n",
       "      <td>...</td>\n",
       "      <td>...</td>\n",
       "      <td>...</td>\n",
       "    </tr>\n",
       "    <tr>\n",
       "      <th>995</th>\n",
       "      <td>Why the Right Went Wrong: Conservatism--From G...</td>\n",
       "      <td>Politics</td>\n",
       "      <td>4</td>\n",
       "      <td>52.65</td>\n",
       "      <td>Yes</td>\n",
       "    </tr>\n",
       "    <tr>\n",
       "      <th>996</th>\n",
       "      <td>Equal Is Unfair: America's Misguided Fight Aga...</td>\n",
       "      <td>Politics</td>\n",
       "      <td>1</td>\n",
       "      <td>56.86</td>\n",
       "      <td>Yes</td>\n",
       "    </tr>\n",
       "    <tr>\n",
       "      <th>997</th>\n",
       "      <td>Amid the Chaos</td>\n",
       "      <td>Cultural</td>\n",
       "      <td>1</td>\n",
       "      <td>36.58</td>\n",
       "      <td>Yes</td>\n",
       "    </tr>\n",
       "    <tr>\n",
       "      <th>998</th>\n",
       "      <td>Dark Notes</td>\n",
       "      <td>Erotica</td>\n",
       "      <td>5</td>\n",
       "      <td>19.19</td>\n",
       "      <td>Yes</td>\n",
       "    </tr>\n",
       "    <tr>\n",
       "      <th>999</th>\n",
       "      <td>The Long Shadow of Small Ghosts: Murder and Me...</td>\n",
       "      <td>Crime</td>\n",
       "      <td>1</td>\n",
       "      <td>10.97</td>\n",
       "      <td>Yes</td>\n",
       "    </tr>\n",
       "  </tbody>\n",
       "</table>\n",
       "<p>1000 rows × 5 columns</p>\n",
       "</div>"
      ],
      "text/plain": [
       "                                                 title  category  stars  \\\n",
       "0                              It's Only the Himalayas    Travel      2   \n",
       "1    Full Moon over Noahâ's Ark: An Odyssey to Moun...    Travel      4   \n",
       "2    See America: A Celebration of Our National Par...    Travel      3   \n",
       "3    Vagabonding: An Uncommon Guide to the Art of L...    Travel      2   \n",
       "4                                 Under the Tuscan Sun    Travel      3   \n",
       "..                                                 ...       ...    ...   \n",
       "995  Why the Right Went Wrong: Conservatism--From G...  Politics      4   \n",
       "996  Equal Is Unfair: America's Misguided Fight Aga...  Politics      1   \n",
       "997                                     Amid the Chaos  Cultural      1   \n",
       "998                                         Dark Notes   Erotica      5   \n",
       "999  The Long Shadow of Small Ghosts: Murder and Me...     Crime      1   \n",
       "\n",
       "     price is_in_stock  \n",
       "0    45.17         Yes  \n",
       "1    49.43         Yes  \n",
       "2    48.87         Yes  \n",
       "3    36.94         Yes  \n",
       "4    37.33         Yes  \n",
       "..     ...         ...  \n",
       "995  52.65         Yes  \n",
       "996  56.86         Yes  \n",
       "997  36.58         Yes  \n",
       "998  19.19         Yes  \n",
       "999  10.97         Yes  \n",
       "\n",
       "[1000 rows x 5 columns]"
      ]
     },
     "execution_count": 8,
     "metadata": {},
     "output_type": "execute_result"
    }
   ],
   "source": [
    "df"
   ]
  },
  {
   "cell_type": "code",
   "execution_count": 9,
   "metadata": {},
   "outputs": [],
   "source": [
    "a= [1,3,5]\n",
    "b= [2,4,6]\n",
    "\n",
    "c = [(i,j) for i,j in zip(a,b)]"
   ]
  },
  {
   "cell_type": "code",
   "execution_count": 11,
   "metadata": {},
   "outputs": [
    {
     "data": {
      "text/plain": [
       "(1, 2)"
      ]
     },
     "execution_count": 11,
     "metadata": {},
     "output_type": "execute_result"
    }
   ],
   "source": []
  },
  {
   "cell_type": "code",
   "execution_count": null,
   "metadata": {},
   "outputs": [],
   "source": []
  }
 ],
 "metadata": {
  "kernelspec": {
   "display_name": "Python 3",
   "language": "python",
   "name": "python3"
  },
  "language_info": {
   "codemirror_mode": {
    "name": "ipython",
    "version": 3
   },
   "file_extension": ".py",
   "mimetype": "text/x-python",
   "name": "python",
   "nbconvert_exporter": "python",
   "pygments_lexer": "ipython3",
   "version": "3.7.6"
  }
 },
 "nbformat": 4,
 "nbformat_minor": 2
}
